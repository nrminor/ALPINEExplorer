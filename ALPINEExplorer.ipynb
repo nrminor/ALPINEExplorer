{
  "cells": [
    {
      "cell_type": "raw",
      "metadata": {},
      "source": [
        "---\n",
        "title: ALPINE Exploratory Data Analysis\n",
        "author: Nicholas R. Minor\n",
        "format: html\n",
        "editor: visual\n",
        "---"
      ]
    },
    {
      "cell_type": "markdown",
      "metadata": {},
      "source": [
        "This notebook is meant to document and also reproduce the exploratory data analysis we've done on the results from our pipeline [ALPINE](https://github.com/nrminor/ALPINE), which is designed to identify high-interest pathogens in large databases. The notebook will walk readers through this exploratory analysis, data visualizations, and statistics at a more relaxed pace than our upcoming manuscript.\n",
        "\n",
        "With that introduction out of the way, let's introduce what ALPINE actually does.\n",
        "\n",
        "### Introduction to ALPINE\n",
        "ALPINE, an acronym for *Anachronistic Lineage and Persistent INfection Explorer*, is a high-throughput, reproducible pipeline for discovering pathogen sequences with either of the following characteristics:\n",
        "1. The pathogen sequence is highly mutated relative to co-occurring pathogen sequences, indicating that it evolved a great deal in ways that more common pathogen variants haven't.\n",
        "2. The pathogen hails from a lineage that is no longer circulating, or at least no longer prevalent. The most parsimonious explanation for this \"past-their-time\" pathogens is that they have persisted in a long infection of an immunocompromised person, though it's also possible that these sequences stem from pathogens that have spilled back from animal reservoirs.\n",
        "\n",
        "ALPINE generates very rich results, with sequence data and metadata for highly evolved sequences, anachronistic sequences, and sequences that are in the Venn overlap between the two. Rather than digging through these results haphazardly, this notebook is meant to establish a workflow for digging through them. Data visualizations and statistics will be baked in. A manuscript for ALPINE is in preparation now, but we think of this notebook as complementary/serving a different purpose. By going through and running the code in this notebook yourself, you will effectively reproduce not just the results, but also the figures we generated for the manuscript.\n",
        "\n",
        "### Software requirements\n",
        "In addition to the software required to run this notebook, you'll also need two applications installed:\n",
        "1. Poetry, which is an excellent Python environment manager. [You can read more and install it here.](https://python-poetry.org/docs/)\n",
        "2. At least Python 3.10. `alpineexplorer` uses structural pattern matching (`match`-`case` blocks) to handle errors, a feature which was only introduced in Python 3.10. That said, we recommend users upgrade to 3.11 if possible.\n",
        "3. Docker, which we use for some intermediate analyses with [Usher](https://usher-wiki.readthedocs.io/en/latest/UShER.html) and [NextClade](https://docs.nextstrain.org/projects/nextclade/en/latest/index.html)\n",
        "\n",
        "Once those are installed, you'll be ready to proceed.\n",
        "\n",
        "### Initial Foray into the Data\n",
        "\n",
        "First, we make sure the packages required by this repo are installed and the core functions are in place."
      ]
    },
    {
      "cell_type": "code",
      "execution_count": 1,
      "metadata": {},
      "outputs": [
        {
          "name": "stdout",
          "output_type": "stream",
          "text": [
            "\u001b[34mInstalling dependencies from lock file\u001b[39m\n",
            "\n",
            "\u001b[39;1mPackage operations\u001b[39;22m: \u001b[34m6\u001b[39m installs, \u001b[34m0\u001b[39m updates, \u001b[34m0\u001b[39m removals\n",
            "\n",
            "  \u001b[34;1m•\u001b[39;22m \u001b[39mInstalling \u001b[39m\u001b[36mclick-plugins\u001b[39m\u001b[39m (\u001b[39m\u001b[39;1m1.1.1\u001b[39;22m\u001b[39m)\u001b[39m: \u001b[34mPending...\u001b[39m\n",
            "  \u001b[34;1m•\u001b[39;22m \u001b[39mInstalling \u001b[39m\u001b[36mcligj\u001b[39m\u001b[39m (\u001b[39m\u001b[39;1m0.7.2\u001b[39;22m\u001b[39m)\u001b[39m: \u001b[34mPending...\u001b[39m\n",
            "\u001b[1A\u001b[0J  \u001b[34;1m•\u001b[39;22m \u001b[39mInstalling \u001b[39m\u001b[36mcligj\u001b[39m\u001b[39m (\u001b[39m\u001b[39;1m0.7.2\u001b[39;22m\u001b[39m)\u001b[39m: \u001b[34mDownloading...\u001b[39m \u001b[39;1m0%\u001b[39;22m\n",
            "\u001b[2A\u001b[0J  \u001b[34;1m•\u001b[39;22m \u001b[39mInstalling \u001b[39m\u001b[36mcligj\u001b[39m\u001b[39m (\u001b[39m\u001b[39;1m0.7.2\u001b[39;22m\u001b[39m)\u001b[39m: \u001b[34mDownloading...\u001b[39m \u001b[39;1m0%\u001b[39;22m\n",
            "\u001b[1A\u001b[0J  \u001b[34;1m•\u001b[39;22m \u001b[39mInstalling \u001b[39m\u001b[36mclick-plugins\u001b[39m\u001b[39m (\u001b[39m\u001b[39;1m1.1.1\u001b[39;22m\u001b[39m)\u001b[39m: \u001b[34mDownloading...\u001b[39m \u001b[39;1m0%\u001b[39;22m\n",
            "  \u001b[34;1m•\u001b[39;22m \u001b[39mInstalling \u001b[39m\u001b[36mcligj\u001b[39m\u001b[39m (\u001b[39m\u001b[39;1m0.7.2\u001b[39;22m\u001b[39m)\u001b[39m: \u001b[34mDownloading...\u001b[39m \u001b[39;1m0%\u001b[39;22m\n",
            "\u001b[1A\u001b[0J  \u001b[34;1m•\u001b[39;22m \u001b[39mInstalling \u001b[39m\u001b[36mcligj\u001b[39m\u001b[39m (\u001b[39m\u001b[39;1m0.7.2\u001b[39;22m\u001b[39m)\u001b[39m: \u001b[34mDownloading...\u001b[39m \u001b[39;1m100%\u001b[39;22m\n",
            "\u001b[1A\u001b[0J  \u001b[34;1m•\u001b[39;22m \u001b[39mInstalling \u001b[39m\u001b[36mcligj\u001b[39m\u001b[39m (\u001b[39m\u001b[39;1m0.7.2\u001b[39;22m\u001b[39m)\u001b[39m: \u001b[34mInstalling...\u001b[39m\n",
            "\u001b[2A\u001b[0J  \u001b[34;1m•\u001b[39;22m \u001b[39mInstalling \u001b[39m\u001b[36mcligj\u001b[39m\u001b[39m (\u001b[39m\u001b[39;1m0.7.2\u001b[39;22m\u001b[39m)\u001b[39m: \u001b[34mInstalling...\u001b[39m\n",
            "\u001b[1A\u001b[0J  \u001b[34;1m•\u001b[39;22m \u001b[39mInstalling \u001b[39m\u001b[36mclick-plugins\u001b[39m\u001b[39m (\u001b[39m\u001b[39;1m1.1.1\u001b[39;22m\u001b[39m)\u001b[39m: \u001b[34mDownloading...\u001b[39m \u001b[39;1m100%\u001b[39;22m\n",
            "  \u001b[34;1m•\u001b[39;22m \u001b[39mInstalling \u001b[39m\u001b[36mcligj\u001b[39m\u001b[39m (\u001b[39m\u001b[39;1m0.7.2\u001b[39;22m\u001b[39m)\u001b[39m: \u001b[34mInstalling...\u001b[39m\n",
            "\u001b[2A\u001b[0J  \u001b[34;1m•\u001b[39;22m \u001b[39mInstalling \u001b[39m\u001b[36mcligj\u001b[39m\u001b[39m (\u001b[39m\u001b[39;1m0.7.2\u001b[39;22m\u001b[39m)\u001b[39m: \u001b[34mInstalling...\u001b[39m\n",
            "\u001b[1A\u001b[0J  \u001b[34;1m•\u001b[39;22m \u001b[39mInstalling \u001b[39m\u001b[36mclick-plugins\u001b[39m\u001b[39m (\u001b[39m\u001b[39;1m1.1.1\u001b[39;22m\u001b[39m)\u001b[39m: \u001b[34mInstalling...\u001b[39m\n",
            "  \u001b[34;1m•\u001b[39;22m \u001b[39mInstalling \u001b[39m\u001b[36mcligj\u001b[39m\u001b[39m (\u001b[39m\u001b[39;1m0.7.2\u001b[39;22m\u001b[39m)\u001b[39m: \u001b[34mInstalling...\u001b[39m\n",
            "\u001b[1A\u001b[0J  \u001b[32;1m•\u001b[39;22m \u001b[39mInstalling \u001b[39m\u001b[36mcligj\u001b[39m\u001b[39m (\u001b[39m\u001b[32m0.7.2\u001b[39m\u001b[39m)\u001b[39m\n",
            "\u001b[2A\u001b[0J  \u001b[32;1m•\u001b[39;22m \u001b[39mInstalling \u001b[39m\u001b[36mcligj\u001b[39m\u001b[39m (\u001b[39m\u001b[32m0.7.2\u001b[39m\u001b[39m)\u001b[39m\n",
            "\u001b[1A\u001b[0J  \u001b[32;1m•\u001b[39;22m \u001b[39mInstalling \u001b[39m\u001b[36mclick-plugins\u001b[39m\u001b[39m (\u001b[39m\u001b[32m1.1.1\u001b[39m\u001b[39m)\u001b[39m\n",
            "  \u001b[32;1m•\u001b[39;22m \u001b[39mInstalling \u001b[39m\u001b[36mcligj\u001b[39m\u001b[39m (\u001b[39m\u001b[32m0.7.2\u001b[39m\u001b[39m)\u001b[39m\n",
            "  \u001b[34;1m•\u001b[39;22m \u001b[39mInstalling \u001b[39m\u001b[36mfiona\u001b[39m\u001b[39m (\u001b[39m\u001b[39;1m1.9.5\u001b[39;22m\u001b[39m)\u001b[39m: \u001b[34mPending...\u001b[39m\n",
            "  \u001b[34;1m•\u001b[39;22m \u001b[39mInstalling \u001b[39m\u001b[36mpyproj\u001b[39m\u001b[39m (\u001b[39m\u001b[39;1m3.6.1\u001b[39;22m\u001b[39m)\u001b[39m: \u001b[34mPending...\u001b[39m\n",
            "  \u001b[34;1m•\u001b[39;22m \u001b[39mInstalling \u001b[39m\u001b[36mshapely\u001b[39m\u001b[39m (\u001b[39m\u001b[39;1m2.0.2\u001b[39;22m\u001b[39m)\u001b[39m: \u001b[34mPending...\u001b[39m\n",
            "\u001b[2A\u001b[0J  \u001b[34;1m•\u001b[39;22m \u001b[39mInstalling \u001b[39m\u001b[36mshapely\u001b[39m\u001b[39m (\u001b[39m\u001b[39;1m2.0.2\u001b[39;22m\u001b[39m)\u001b[39m: \u001b[34mPending...\u001b[39m\n",
            "\u001b[1A\u001b[0J  \u001b[34;1m•\u001b[39;22m \u001b[39mInstalling \u001b[39m\u001b[36mpyproj\u001b[39m\u001b[39m (\u001b[39m\u001b[39;1m3.6.1\u001b[39;22m\u001b[39m)\u001b[39m: \u001b[34mDownloading...\u001b[39m \u001b[39;1m0%\u001b[39;22m\n",
            "  \u001b[34;1m•\u001b[39;22m \u001b[39mInstalling \u001b[39m\u001b[36mshapely\u001b[39m\u001b[39m (\u001b[39m\u001b[39;1m2.0.2\u001b[39;22m\u001b[39m)\u001b[39m: \u001b[34mPending...\u001b[39m\n",
            "\u001b[3A\u001b[0J  \u001b[34;1m•\u001b[39;22m \u001b[39mInstalling \u001b[39m\u001b[36mpyproj\u001b[39m\u001b[39m (\u001b[39m\u001b[39;1m3.6.1\u001b[39;22m\u001b[39m)\u001b[39m: \u001b[34mDownloading...\u001b[39m \u001b[39;1m0%\u001b[39;22m\n",
            "  \u001b[34;1m•\u001b[39;22m \u001b[39mInstalling \u001b[39m\u001b[36mshapely\u001b[39m\u001b[39m (\u001b[39m\u001b[39;1m2.0.2\u001b[39;22m\u001b[39m)\u001b[39m: \u001b[34mPending...\u001b[39m\n",
            "\u001b[2A\u001b[0J  \u001b[34;1m•\u001b[39;22m \u001b[39mInstalling \u001b[39m\u001b[36mfiona\u001b[39m\u001b[39m (\u001b[39m\u001b[39;1m1.9.5\u001b[39;22m\u001b[39m)\u001b[39m: \u001b[34mDownloading...\u001b[39m \u001b[39;1m0%\u001b[39;22m\n",
            "  \u001b[34;1m•\u001b[39;22m \u001b[39mInstalling \u001b[39m\u001b[36mpyproj\u001b[39m\u001b[39m (\u001b[39m\u001b[39;1m3.6.1\u001b[39;22m\u001b[39m)\u001b[39m: \u001b[34mDownloading...\u001b[39m \u001b[39;1m0%\u001b[39;22m\n",
            "  \u001b[34;1m•\u001b[39;22m \u001b[39mInstalling \u001b[39m\u001b[36mshapely\u001b[39m\u001b[39m (\u001b[39m\u001b[39;1m2.0.2\u001b[39;22m\u001b[39m)\u001b[39m: \u001b[34mPending...\u001b[39m\n",
            "\u001b[2A\u001b[0J  \u001b[34;1m•\u001b[39;22m \u001b[39mInstalling \u001b[39m\u001b[36mshapely\u001b[39m\u001b[39m (\u001b[39m\u001b[39;1m2.0.2\u001b[39;22m\u001b[39m)\u001b[39m: \u001b[34mPending...\u001b[39m\n",
            "\u001b[1A\u001b[0J  \u001b[34;1m•\u001b[39;22m \u001b[39mInstalling \u001b[39m\u001b[36mpyproj\u001b[39m\u001b[39m (\u001b[39m\u001b[39;1m3.6.1\u001b[39;22m\u001b[39m)\u001b[39m: \u001b[34mDownloading...\u001b[39m \u001b[39;1m20%\u001b[39;22m\n",
            "  \u001b[34;1m•\u001b[39;22m \u001b[39mInstalling \u001b[39m\u001b[36mshapely\u001b[39m\u001b[39m (\u001b[39m\u001b[39;1m2.0.2\u001b[39;22m\u001b[39m)\u001b[39m: \u001b[34mPending...\u001b[39m\n",
            "\u001b[1A\u001b[0J  \u001b[34;1m•\u001b[39;22m \u001b[39mInstalling \u001b[39m\u001b[36mshapely\u001b[39m\u001b[39m (\u001b[39m\u001b[39;1m2.0.2\u001b[39;22m\u001b[39m)\u001b[39m: \u001b[34mDownloading...\u001b[39m \u001b[39;1m0%\u001b[39;22m\n",
            "\u001b[3A\u001b[0J  \u001b[34;1m•\u001b[39;22m \u001b[39mInstalling \u001b[39m\u001b[36mpyproj\u001b[39m\u001b[39m (\u001b[39m\u001b[39;1m3.6.1\u001b[39;22m\u001b[39m)\u001b[39m: \u001b[34mDownloading...\u001b[39m \u001b[39;1m20%\u001b[39;22m\n",
            "  \u001b[34;1m•\u001b[39;22m \u001b[39mInstalling \u001b[39m\u001b[36mshapely\u001b[39m\u001b[39m (\u001b[39m\u001b[39;1m2.0.2\u001b[39;22m\u001b[39m)\u001b[39m: \u001b[34mDownloading...\u001b[39m \u001b[39;1m0%\u001b[39;22m\n",
            "\u001b[2A\u001b[0J  \u001b[34;1m•\u001b[39;22m \u001b[39mInstalling \u001b[39m\u001b[36mfiona\u001b[39m\u001b[39m (\u001b[39m\u001b[39;1m1.9.5\u001b[39;22m\u001b[39m)\u001b[39m: \u001b[34mDownloading...\u001b[39m \u001b[39;1m10%\u001b[39;22m\n",
            "  \u001b[34;1m•\u001b[39;22m \u001b[39mInstalling \u001b[39m\u001b[36mpyproj\u001b[39m\u001b[39m (\u001b[39m\u001b[39;1m3.6.1\u001b[39;22m\u001b[39m)\u001b[39m: \u001b[34mDownloading...\u001b[39m \u001b[39;1m20%\u001b[39;22m\n",
            "  \u001b[34;1m•\u001b[39;22m \u001b[39mInstalling \u001b[39m\u001b[36mshapely\u001b[39m\u001b[39m (\u001b[39m\u001b[39;1m2.0.2\u001b[39;22m\u001b[39m)\u001b[39m: \u001b[34mDownloading...\u001b[39m \u001b[39;1m0%\u001b[39;22m\n",
            "\u001b[2A\u001b[0J  \u001b[34;1m•\u001b[39;22m \u001b[39mInstalling \u001b[39m\u001b[36mshapely\u001b[39m\u001b[39m (\u001b[39m\u001b[39;1m2.0.2\u001b[39;22m\u001b[39m)\u001b[39m: \u001b[34mDownloading...\u001b[39m \u001b[39;1m0%\u001b[39;22m\n",
            "\u001b[1A\u001b[0J  \u001b[34;1m•\u001b[39;22m \u001b[39mInstalling \u001b[39m\u001b[36mpyproj\u001b[39m\u001b[39m (\u001b[39m\u001b[39;1m3.6.1\u001b[39;22m\u001b[39m)\u001b[39m: \u001b[34mDownloading...\u001b[39m \u001b[39;1m50%\u001b[39;22m\n",
            "  \u001b[34;1m•\u001b[39;22m \u001b[39mInstalling \u001b[39m\u001b[36mshapely\u001b[39m\u001b[39m (\u001b[39m\u001b[39;1m2.0.2\u001b[39;22m\u001b[39m)\u001b[39m: \u001b[34mDownloading...\u001b[39m \u001b[39;1m0%\u001b[39;22m\n",
            "\u001b[1A\u001b[0J  \u001b[34;1m•\u001b[39;22m \u001b[39mInstalling \u001b[39m\u001b[36mshapely\u001b[39m\u001b[39m (\u001b[39m\u001b[39;1m2.0.2\u001b[39;22m\u001b[39m)\u001b[39m: \u001b[34mDownloading...\u001b[39m \u001b[39;1m50%\u001b[39;22m\n",
            "\u001b[3A\u001b[0J  \u001b[34;1m•\u001b[39;22m \u001b[39mInstalling \u001b[39m\u001b[36mpyproj\u001b[39m\u001b[39m (\u001b[39m\u001b[39;1m3.6.1\u001b[39;22m\u001b[39m)\u001b[39m: \u001b[34mDownloading...\u001b[39m \u001b[39;1m50%\u001b[39;22m\n",
            "  \u001b[34;1m•\u001b[39;22m \u001b[39mInstalling \u001b[39m\u001b[36mshapely\u001b[39m\u001b[39m (\u001b[39m\u001b[39;1m2.0.2\u001b[39;22m\u001b[39m)\u001b[39m: \u001b[34mDownloading...\u001b[39m \u001b[39;1m50%\u001b[39;22m\n",
            "\u001b[2A\u001b[0J  \u001b[34;1m•\u001b[39;22m \u001b[39mInstalling \u001b[39m\u001b[36mfiona\u001b[39m\u001b[39m (\u001b[39m\u001b[39;1m1.9.5\u001b[39;22m\u001b[39m)\u001b[39m: \u001b[34mDownloading...\u001b[39m \u001b[39;1m20%\u001b[39;22m\n",
            "  \u001b[34;1m•\u001b[39;22m \u001b[39mInstalling \u001b[39m\u001b[36mpyproj\u001b[39m\u001b[39m (\u001b[39m\u001b[39;1m3.6.1\u001b[39;22m\u001b[39m)\u001b[39m: \u001b[34mDownloading...\u001b[39m \u001b[39;1m50%\u001b[39;22m\n",
            "  \u001b[34;1m•\u001b[39;22m \u001b[39mInstalling \u001b[39m\u001b[36mshapely\u001b[39m\u001b[39m (\u001b[39m\u001b[39;1m2.0.2\u001b[39;22m\u001b[39m)\u001b[39m: \u001b[34mDownloading...\u001b[39m \u001b[39;1m50%\u001b[39;22m\n",
            "\u001b[1A\u001b[0J  \u001b[34;1m•\u001b[39;22m \u001b[39mInstalling \u001b[39m\u001b[36mshapely\u001b[39m\u001b[39m (\u001b[39m\u001b[39;1m2.0.2\u001b[39;22m\u001b[39m)\u001b[39m: \u001b[34mDownloading...\u001b[39m \u001b[39;1m100%\u001b[39;22m\n",
            "\u001b[2A\u001b[0J  \u001b[34;1m•\u001b[39;22m \u001b[39mInstalling \u001b[39m\u001b[36mshapely\u001b[39m\u001b[39m (\u001b[39m\u001b[39;1m2.0.2\u001b[39;22m\u001b[39m)\u001b[39m: \u001b[34mDownloading...\u001b[39m \u001b[39;1m100%\u001b[39;22m\n",
            "\u001b[1A\u001b[0J  \u001b[34;1m•\u001b[39;22m \u001b[39mInstalling \u001b[39m\u001b[36mpyproj\u001b[39m\u001b[39m (\u001b[39m\u001b[39;1m3.6.1\u001b[39;22m\u001b[39m)\u001b[39m: \u001b[34mDownloading...\u001b[39m \u001b[39;1m80%\u001b[39;22m\n",
            "  \u001b[34;1m•\u001b[39;22m \u001b[39mInstalling \u001b[39m\u001b[36mshapely\u001b[39m\u001b[39m (\u001b[39m\u001b[39;1m2.0.2\u001b[39;22m\u001b[39m)\u001b[39m: \u001b[34mDownloading...\u001b[39m \u001b[39;1m100%\u001b[39;22m\n",
            "\u001b[1A\u001b[0J  \u001b[34;1m•\u001b[39;22m \u001b[39mInstalling \u001b[39m\u001b[36mshapely\u001b[39m\u001b[39m (\u001b[39m\u001b[39;1m2.0.2\u001b[39;22m\u001b[39m)\u001b[39m: \u001b[34mInstalling...\u001b[39m\n",
            "\u001b[2A\u001b[0J  \u001b[34;1m•\u001b[39;22m \u001b[39mInstalling \u001b[39m\u001b[36mshapely\u001b[39m\u001b[39m (\u001b[39m\u001b[39;1m2.0.2\u001b[39;22m\u001b[39m)\u001b[39m: \u001b[34mInstalling...\u001b[39m\n",
            "\u001b[1A\u001b[0J  \u001b[34;1m•\u001b[39;22m \u001b[39mInstalling \u001b[39m\u001b[36mpyproj\u001b[39m\u001b[39m (\u001b[39m\u001b[39;1m3.6.1\u001b[39;22m\u001b[39m)\u001b[39m: \u001b[34mDownloading...\u001b[39m \u001b[39;1m100%\u001b[39;22m\n",
            "  \u001b[34;1m•\u001b[39;22m \u001b[39mInstalling \u001b[39m\u001b[36mshapely\u001b[39m\u001b[39m (\u001b[39m\u001b[39;1m2.0.2\u001b[39;22m\u001b[39m)\u001b[39m: \u001b[34mInstalling...\u001b[39m\n",
            "\u001b[3A\u001b[0J  \u001b[34;1m•\u001b[39;22m \u001b[39mInstalling \u001b[39m\u001b[36mpyproj\u001b[39m\u001b[39m (\u001b[39m\u001b[39;1m3.6.1\u001b[39;22m\u001b[39m)\u001b[39m: \u001b[34mDownloading...\u001b[39m \u001b[39;1m100%\u001b[39;22m\n",
            "  \u001b[34;1m•\u001b[39;22m \u001b[39mInstalling \u001b[39m\u001b[36mshapely\u001b[39m\u001b[39m (\u001b[39m\u001b[39;1m2.0.2\u001b[39;22m\u001b[39m)\u001b[39m: \u001b[34mInstalling...\u001b[39m\n",
            "\u001b[2A\u001b[0J  \u001b[34;1m•\u001b[39;22m \u001b[39mInstalling \u001b[39m\u001b[36mfiona\u001b[39m\u001b[39m (\u001b[39m\u001b[39;1m1.9.5\u001b[39;22m\u001b[39m)\u001b[39m: \u001b[34mDownloading...\u001b[39m \u001b[39;1m30%\u001b[39;22m\n",
            "  \u001b[34;1m•\u001b[39;22m \u001b[39mInstalling \u001b[39m\u001b[36mpyproj\u001b[39m\u001b[39m (\u001b[39m\u001b[39;1m3.6.1\u001b[39;22m\u001b[39m)\u001b[39m: \u001b[34mDownloading...\u001b[39m \u001b[39;1m100%\u001b[39;22m\n",
            "  \u001b[34;1m•\u001b[39;22m \u001b[39mInstalling \u001b[39m\u001b[36mshapely\u001b[39m\u001b[39m (\u001b[39m\u001b[39;1m2.0.2\u001b[39;22m\u001b[39m)\u001b[39m: \u001b[34mInstalling...\u001b[39m\n",
            "\u001b[2A\u001b[0J  \u001b[34;1m•\u001b[39;22m \u001b[39mInstalling \u001b[39m\u001b[36mshapely\u001b[39m\u001b[39m (\u001b[39m\u001b[39;1m2.0.2\u001b[39;22m\u001b[39m)\u001b[39m: \u001b[34mInstalling...\u001b[39m\n",
            "\u001b[1A\u001b[0J  \u001b[34;1m•\u001b[39;22m \u001b[39mInstalling \u001b[39m\u001b[36mpyproj\u001b[39m\u001b[39m (\u001b[39m\u001b[39;1m3.6.1\u001b[39;22m\u001b[39m)\u001b[39m: \u001b[34mInstalling...\u001b[39m\n",
            "  \u001b[34;1m•\u001b[39;22m \u001b[39mInstalling \u001b[39m\u001b[36mshapely\u001b[39m\u001b[39m (\u001b[39m\u001b[39;1m2.0.2\u001b[39;22m\u001b[39m)\u001b[39m: \u001b[34mInstalling...\u001b[39m\n",
            "\u001b[3A\u001b[0J  \u001b[34;1m•\u001b[39;22m \u001b[39mInstalling \u001b[39m\u001b[36mpyproj\u001b[39m\u001b[39m (\u001b[39m\u001b[39;1m3.6.1\u001b[39;22m\u001b[39m)\u001b[39m: \u001b[34mInstalling...\u001b[39m\n",
            "  \u001b[34;1m•\u001b[39;22m \u001b[39mInstalling \u001b[39m\u001b[36mshapely\u001b[39m\u001b[39m (\u001b[39m\u001b[39;1m2.0.2\u001b[39;22m\u001b[39m)\u001b[39m: \u001b[34mInstalling...\u001b[39m\n",
            "\u001b[2A\u001b[0J  \u001b[34;1m•\u001b[39;22m \u001b[39mInstalling \u001b[39m\u001b[36mfiona\u001b[39m\u001b[39m (\u001b[39m\u001b[39;1m1.9.5\u001b[39;22m\u001b[39m)\u001b[39m: \u001b[34mDownloading...\u001b[39m \u001b[39;1m40%\u001b[39;22m\n",
            "  \u001b[34;1m•\u001b[39;22m \u001b[39mInstalling \u001b[39m\u001b[36mpyproj\u001b[39m\u001b[39m (\u001b[39m\u001b[39;1m3.6.1\u001b[39;22m\u001b[39m)\u001b[39m: \u001b[34mInstalling...\u001b[39m\n",
            "  \u001b[34;1m•\u001b[39;22m \u001b[39mInstalling \u001b[39m\u001b[36mshapely\u001b[39m\u001b[39m (\u001b[39m\u001b[39;1m2.0.2\u001b[39;22m\u001b[39m)\u001b[39m: \u001b[34mInstalling...\u001b[39m\n",
            "\u001b[1A\u001b[0J  \u001b[32;1m•\u001b[39;22m \u001b[39mInstalling \u001b[39m\u001b[36mshapely\u001b[39m\u001b[39m (\u001b[39m\u001b[32m2.0.2\u001b[39m\u001b[39m)\u001b[39m\n",
            "\u001b[3A\u001b[0J  \u001b[34;1m•\u001b[39;22m \u001b[39mInstalling \u001b[39m\u001b[36mpyproj\u001b[39m\u001b[39m (\u001b[39m\u001b[39;1m3.6.1\u001b[39;22m\u001b[39m)\u001b[39m: \u001b[34mInstalling...\u001b[39m\n",
            "  \u001b[32;1m•\u001b[39;22m \u001b[39mInstalling \u001b[39m\u001b[36mshapely\u001b[39m\u001b[39m (\u001b[39m\u001b[32m2.0.2\u001b[39m\u001b[39m)\u001b[39m\n",
            "\u001b[2A\u001b[0J  \u001b[34;1m•\u001b[39;22m \u001b[39mInstalling \u001b[39m\u001b[36mfiona\u001b[39m\u001b[39m (\u001b[39m\u001b[39;1m1.9.5\u001b[39;22m\u001b[39m)\u001b[39m: \u001b[34mDownloading...\u001b[39m \u001b[39;1m50%\u001b[39;22m\n",
            "  \u001b[34;1m•\u001b[39;22m \u001b[39mInstalling \u001b[39m\u001b[36mpyproj\u001b[39m\u001b[39m (\u001b[39m\u001b[39;1m3.6.1\u001b[39;22m\u001b[39m)\u001b[39m: \u001b[34mInstalling...\u001b[39m\n",
            "  \u001b[32;1m•\u001b[39;22m \u001b[39mInstalling \u001b[39m\u001b[36mshapely\u001b[39m\u001b[39m (\u001b[39m\u001b[32m2.0.2\u001b[39m\u001b[39m)\u001b[39m\n",
            "\u001b[3A\u001b[0J  \u001b[34;1m•\u001b[39;22m \u001b[39mInstalling \u001b[39m\u001b[36mpyproj\u001b[39m\u001b[39m (\u001b[39m\u001b[39;1m3.6.1\u001b[39;22m\u001b[39m)\u001b[39m: \u001b[34mInstalling...\u001b[39m\n",
            "  \u001b[32;1m•\u001b[39;22m \u001b[39mInstalling \u001b[39m\u001b[36mshapely\u001b[39m\u001b[39m (\u001b[39m\u001b[32m2.0.2\u001b[39m\u001b[39m)\u001b[39m\n",
            "\u001b[2A\u001b[0J  \u001b[34;1m•\u001b[39;22m \u001b[39mInstalling \u001b[39m\u001b[36mfiona\u001b[39m\u001b[39m (\u001b[39m\u001b[39;1m1.9.5\u001b[39;22m\u001b[39m)\u001b[39m: \u001b[34mDownloading...\u001b[39m \u001b[39;1m60%\u001b[39;22m\n",
            "  \u001b[34;1m•\u001b[39;22m \u001b[39mInstalling \u001b[39m\u001b[36mpyproj\u001b[39m\u001b[39m (\u001b[39m\u001b[39;1m3.6.1\u001b[39;22m\u001b[39m)\u001b[39m: \u001b[34mInstalling...\u001b[39m\n",
            "  \u001b[32;1m•\u001b[39;22m \u001b[39mInstalling \u001b[39m\u001b[36mshapely\u001b[39m\u001b[39m (\u001b[39m\u001b[32m2.0.2\u001b[39m\u001b[39m)\u001b[39m\n",
            "\u001b[2A\u001b[0J  \u001b[32;1m•\u001b[39;22m \u001b[39mInstalling \u001b[39m\u001b[36mshapely\u001b[39m\u001b[39m (\u001b[39m\u001b[32m2.0.2\u001b[39m\u001b[39m)\u001b[39m\n",
            "\u001b[1A\u001b[0J  \u001b[32;1m•\u001b[39;22m \u001b[39mInstalling \u001b[39m\u001b[36mpyproj\u001b[39m\u001b[39m (\u001b[39m\u001b[32m3.6.1\u001b[39m\u001b[39m)\u001b[39m\n",
            "  \u001b[32;1m•\u001b[39;22m \u001b[39mInstalling \u001b[39m\u001b[36mshapely\u001b[39m\u001b[39m (\u001b[39m\u001b[32m2.0.2\u001b[39m\u001b[39m)\u001b[39m\n",
            "\u001b[3A\u001b[0J  \u001b[32;1m•\u001b[39;22m \u001b[39mInstalling \u001b[39m\u001b[36mpyproj\u001b[39m\u001b[39m (\u001b[39m\u001b[32m3.6.1\u001b[39m\u001b[39m)\u001b[39m\n",
            "  \u001b[32;1m•\u001b[39;22m \u001b[39mInstalling \u001b[39m\u001b[36mshapely\u001b[39m\u001b[39m (\u001b[39m\u001b[32m2.0.2\u001b[39m\u001b[39m)\u001b[39m\n",
            "\u001b[2A\u001b[0J  \u001b[34;1m•\u001b[39;22m \u001b[39mInstalling \u001b[39m\u001b[36mfiona\u001b[39m\u001b[39m (\u001b[39m\u001b[39;1m1.9.5\u001b[39;22m\u001b[39m)\u001b[39m: \u001b[34mDownloading...\u001b[39m \u001b[39;1m80%\u001b[39;22m\n",
            "  \u001b[32;1m•\u001b[39;22m \u001b[39mInstalling \u001b[39m\u001b[36mpyproj\u001b[39m\u001b[39m (\u001b[39m\u001b[32m3.6.1\u001b[39m\u001b[39m)\u001b[39m\n",
            "  \u001b[32;1m•\u001b[39;22m \u001b[39mInstalling \u001b[39m\u001b[36mshapely\u001b[39m\u001b[39m (\u001b[39m\u001b[32m2.0.2\u001b[39m\u001b[39m)\u001b[39m\n",
            "\u001b[3A\u001b[0J  \u001b[32;1m•\u001b[39;22m \u001b[39mInstalling \u001b[39m\u001b[36mpyproj\u001b[39m\u001b[39m (\u001b[39m\u001b[32m3.6.1\u001b[39m\u001b[39m)\u001b[39m\n",
            "  \u001b[32;1m•\u001b[39;22m \u001b[39mInstalling \u001b[39m\u001b[36mshapely\u001b[39m\u001b[39m (\u001b[39m\u001b[32m2.0.2\u001b[39m\u001b[39m)\u001b[39m\n",
            "\u001b[2A\u001b[0J  \u001b[34;1m•\u001b[39;22m \u001b[39mInstalling \u001b[39m\u001b[36mfiona\u001b[39m\u001b[39m (\u001b[39m\u001b[39;1m1.9.5\u001b[39;22m\u001b[39m)\u001b[39m: \u001b[34mDownloading...\u001b[39m \u001b[39;1m100%\u001b[39;22m\n",
            "  \u001b[32;1m•\u001b[39;22m \u001b[39mInstalling \u001b[39m\u001b[36mpyproj\u001b[39m\u001b[39m (\u001b[39m\u001b[32m3.6.1\u001b[39m\u001b[39m)\u001b[39m\n",
            "  \u001b[32;1m•\u001b[39;22m \u001b[39mInstalling \u001b[39m\u001b[36mshapely\u001b[39m\u001b[39m (\u001b[39m\u001b[32m2.0.2\u001b[39m\u001b[39m)\u001b[39m\n",
            "\u001b[3A\u001b[0J  \u001b[32;1m•\u001b[39;22m \u001b[39mInstalling \u001b[39m\u001b[36mpyproj\u001b[39m\u001b[39m (\u001b[39m\u001b[32m3.6.1\u001b[39m\u001b[39m)\u001b[39m\n",
            "  \u001b[32;1m•\u001b[39;22m \u001b[39mInstalling \u001b[39m\u001b[36mshapely\u001b[39m\u001b[39m (\u001b[39m\u001b[32m2.0.2\u001b[39m\u001b[39m)\u001b[39m\n",
            "\u001b[2A\u001b[0J  \u001b[34;1m•\u001b[39;22m \u001b[39mInstalling \u001b[39m\u001b[36mfiona\u001b[39m\u001b[39m (\u001b[39m\u001b[39;1m1.9.5\u001b[39;22m\u001b[39m)\u001b[39m: \u001b[34mInstalling...\u001b[39m\n",
            "  \u001b[32;1m•\u001b[39;22m \u001b[39mInstalling \u001b[39m\u001b[36mpyproj\u001b[39m\u001b[39m (\u001b[39m\u001b[32m3.6.1\u001b[39m\u001b[39m)\u001b[39m\n",
            "  \u001b[32;1m•\u001b[39;22m \u001b[39mInstalling \u001b[39m\u001b[36mshapely\u001b[39m\u001b[39m (\u001b[39m\u001b[32m2.0.2\u001b[39m\u001b[39m)\u001b[39m\n",
            "\u001b[3A\u001b[0J  \u001b[32;1m•\u001b[39;22m \u001b[39mInstalling \u001b[39m\u001b[36mpyproj\u001b[39m\u001b[39m (\u001b[39m\u001b[32m3.6.1\u001b[39m\u001b[39m)\u001b[39m\n",
            "  \u001b[32;1m•\u001b[39;22m \u001b[39mInstalling \u001b[39m\u001b[36mshapely\u001b[39m\u001b[39m (\u001b[39m\u001b[32m2.0.2\u001b[39m\u001b[39m)\u001b[39m\n",
            "\u001b[2A\u001b[0J  \u001b[32;1m•\u001b[39;22m \u001b[39mInstalling \u001b[39m\u001b[36mfiona\u001b[39m\u001b[39m (\u001b[39m\u001b[32m1.9.5\u001b[39m\u001b[39m)\u001b[39m\n",
            "  \u001b[32;1m•\u001b[39;22m \u001b[39mInstalling \u001b[39m\u001b[36mpyproj\u001b[39m\u001b[39m (\u001b[39m\u001b[32m3.6.1\u001b[39m\u001b[39m)\u001b[39m\n",
            "  \u001b[32;1m•\u001b[39;22m \u001b[39mInstalling \u001b[39m\u001b[36mshapely\u001b[39m\u001b[39m (\u001b[39m\u001b[32m2.0.2\u001b[39m\u001b[39m)\u001b[39m\n",
            "  \u001b[34;1m•\u001b[39;22m \u001b[39mInstalling \u001b[39m\u001b[36mgeopandas\u001b[39m\u001b[39m (\u001b[39m\u001b[39;1m0.14.0\u001b[39;22m\u001b[39m)\u001b[39m: \u001b[34mPending...\u001b[39m\n",
            "\u001b[1A\u001b[0J  \u001b[34;1m•\u001b[39;22m \u001b[39mInstalling \u001b[39m\u001b[36mgeopandas\u001b[39m\u001b[39m (\u001b[39m\u001b[39;1m0.14.0\u001b[39;22m\u001b[39m)\u001b[39m: \u001b[34mDownloading...\u001b[39m \u001b[39;1m0%\u001b[39;22m\n",
            "\u001b[1A\u001b[0J  \u001b[34;1m•\u001b[39;22m \u001b[39mInstalling \u001b[39m\u001b[36mgeopandas\u001b[39m\u001b[39m (\u001b[39m\u001b[39;1m0.14.0\u001b[39;22m\u001b[39m)\u001b[39m: \u001b[34mDownloading...\u001b[39m \u001b[39;1m100%\u001b[39;22m\n",
            "\u001b[1A\u001b[0J  \u001b[34;1m•\u001b[39;22m \u001b[39mInstalling \u001b[39m\u001b[36mgeopandas\u001b[39m\u001b[39m (\u001b[39m\u001b[39;1m0.14.0\u001b[39;22m\u001b[39m)\u001b[39m: \u001b[34mInstalling...\u001b[39m\n",
            "\u001b[1A\u001b[0J  \u001b[32;1m•\u001b[39;22m \u001b[39mInstalling \u001b[39m\u001b[36mgeopandas\u001b[39m\u001b[39m (\u001b[39m\u001b[32m0.14.0\u001b[39m\u001b[39m)\u001b[39m\n",
            "\n",
            "\u001b[39;1mInstalling\u001b[39;22m the current project: \u001b[36malpineexplorer\u001b[39m (\u001b[39;1m0.1.0\u001b[39;22m)\u001b[1G\u001b[2K\u001b[39;1mInstalling\u001b[39;22m the current project: \u001b[36malpineexplorer\u001b[39m (\u001b[32m0.1.0\u001b[39m)\n"
          ]
        }
      ],
      "source": [
        "!poetry install"
      ]
    },
    {
      "cell_type": "markdown",
      "metadata": {},
      "source": [
        "Next, let's load some of the libraries we may use in our explorations (all of which are listed and versioned in `pyproject.toml`). These are only available because Poetry handled the installations above."
      ]
    },
    {
      "cell_type": "code",
      "execution_count": 2,
      "metadata": {},
      "outputs": [],
      "source": [
        "import os\n",
        "import sys\n",
        "import glob\n",
        "from result import Result, Ok, Err\n",
        "import polars as pl\n",
        "import matplotlib.pyplot as plt\n",
        "import seaborn\n",
        "import scipy\n",
        "import numpy\n",
        "import pandas\n",
        "import geopandas as gpd\n",
        "import alpineexplorer.main as ae"
      ]
    },
    {
      "cell_type": "markdown",
      "metadata": {},
      "source": [
        "You'll notice we load a module called `ALPINEExplorer`; this is only available because we activated the environment in this directory, where there is, in fact, a module named \"ALPINEExplorer\". You could not access this module outside the current working directory unless you specified back to this directory's environment with Poetry.\n",
        "\n",
        "Next, let's specify a constant for the path to our results (be sure to change this to wherever the results are located on your machine!). We'll also use an assert statement to double check that the provided path actually exists and is a directory."
      ]
    },
    {
      "cell_type": "code",
      "execution_count": 4,
      "metadata": {},
      "outputs": [],
      "source": [
        "RESULTS_DIR=\"/Volumes/nrm_t7_1/29267/aggregated_results\"\n",
        "assert os.path.exists(RESULTS_DIR) and os.path.isdir(\n",
        "        RESULTS_DIR\n",
        "    ), \"Provided file path does not exist or is not a directory.\""
      ]
    },
    {
      "cell_type": "markdown",
      "metadata": {},
      "source": [
        "Next, let's compile a table of mutations to look at and generate some visualizations. First, we generate a dictionary of subdirectory paths, which will be traversed downstream. I use the Python `result` module along with structural pattern matching in the module, but here, let's just unwrap the results."
      ]
    },
    {
      "cell_type": "code",
      "execution_count": 5,
      "metadata": {},
      "outputs": [],
      "source": [
        "starter_paths = ae.construct_file_paths(RESULTS_DIR).unwrap()"
      ]
    },
    {
      "cell_type": "markdown",
      "metadata": {},
      "source": [
        "If you'd to see what the starter paths look like, uncomment the following and run it."
      ]
    },
    {
      "cell_type": "code",
      "execution_count": 43,
      "metadata": {},
      "outputs": [],
      "source": [
        "# starter_paths"
      ]
    },
    {
      "cell_type": "markdown",
      "metadata": {},
      "source": [
        "Now, let's take that dictionary and turn it into a true \"tree\" of directories to traverse. This tree is itself a dictionary, where the keys are all the geographies ALPINE searched, and the values are a data structure listing all the relevant subdirectories for that geography."
      ]
    },
    {
      "cell_type": "code",
      "execution_count": 6,
      "metadata": {},
      "outputs": [],
      "source": [
        "search_tree = ae.define_search_tree(starter_paths).unwrap()"
      ]
    },
    {
      "cell_type": "code",
      "execution_count": 45,
      "metadata": {},
      "outputs": [],
      "source": [
        "# search_tree"
      ]
    },
    {
      "cell_type": "markdown",
      "metadata": {},
      "source": [
        "Let's now take that search tree and actually use it to search:"
      ]
    },
    {
      "cell_type": "code",
      "execution_count": 7,
      "metadata": {},
      "outputs": [],
      "source": [
        "stats_df = ae.stats_pipeline(search_tree).unwrap()"
      ]
    },
    {
      "cell_type": "markdown",
      "metadata": {},
      "source": [
        "You'll notice that function compiled all the relevant stats for each geography and returned a data frame so we can continue to look at it. Before we proceed, let's save the stats dataframe to an Excel file:"
      ]
    },
    {
      "cell_type": "code",
      "execution_count": 8,
      "metadata": {},
      "outputs": [
        {
          "data": {
            "text/plain": [
              "<xlsxwriter.workbook.Workbook at 0x140be2e50>"
            ]
          },
          "execution_count": 8,
          "metadata": {},
          "output_type": "execute_result"
        }
      ],
      "source": [
        "stats_df.write_excel(\"alpine_run_statistics.xlsx\", autofit=True)"
      ]
    },
    {
      "cell_type": "markdown",
      "metadata": {},
      "source": [
        "\n",
        "\n",
        "Next, let's use the search tree to compile databases of metadata for each kind of candidate, which we can then group by geography and query as needed. To do this, we'll blend reading and writing of the files with a conversion to the more efficient Arrow format, which we can then read again later. To do so, we just run the following function on the search tree. The function will return [Polars LazyFrames](https://pola-rs.github.io/polars/py-polars/html/reference/lazyframe/index.html) that we can query later."
      ]
    },
    {
      "cell_type": "code",
      "execution_count": 9,
      "metadata": {},
      "outputs": [],
      "source": [
        "meta_results = ae.compile_metadata(search_tree).unwrap()\n",
        "anachron_meta = meta_results.anachron\n",
        "highdist_meta = meta_results.highdist\n",
        "double_meta = meta_results.double"
      ]
    },
    {
      "cell_type": "markdown",
      "metadata": {},
      "source": [
        "### Basic Visualizations\n",
        "We'll start where most exploratory data analyses start: with a histogram. We'll start with a histogram of both the counts and the prevalences of some of the ALPINE candidates."
      ]
    }
  ],
  "metadata": {
    "kernelspec": {
      "display_name": "Python 3 (ipykernel)",
      "language": "python",
      "name": "python3"
    },
    "language_info": {
      "codemirror_mode": {
        "name": "ipython",
        "version": 3
      },
      "file_extension": ".py",
      "mimetype": "text/x-python",
      "name": "python",
      "nbconvert_exporter": "python",
      "pygments_lexer": "ipython3",
      "version": "3.11.4"
    }
  },
  "nbformat": 4,
  "nbformat_minor": 4
}
